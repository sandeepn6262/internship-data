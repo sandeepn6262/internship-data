{
 "cells": [
  {
   "cell_type": "code",
   "execution_count": 1,
   "id": "4b6f0add",
   "metadata": {},
   "outputs": [],
   "source": [
    "import numpy as np\n",
    "import pandas as pd\n",
    "import matplotlib.pyplot as plt\n",
    "import seaborn as sns\n",
    "import random "
   ]
  },
  {
   "cell_type": "code",
   "execution_count": 2,
   "id": "2b548508",
   "metadata": {},
   "outputs": [],
   "source": [
    "df = pd.read_csv('classified_data.csv')\n",
    "#df1 = pd.read_csv('classified_data.csv')"
   ]
  },
  {
   "cell_type": "code",
   "execution_count": 3,
   "id": "fb1815dd",
   "metadata": {},
   "outputs": [
    {
     "data": {
      "text/html": [
       "<div>\n",
       "<style scoped>\n",
       "    .dataframe tbody tr th:only-of-type {\n",
       "        vertical-align: middle;\n",
       "    }\n",
       "\n",
       "    .dataframe tbody tr th {\n",
       "        vertical-align: top;\n",
       "    }\n",
       "\n",
       "    .dataframe thead th {\n",
       "        text-align: right;\n",
       "    }\n",
       "</style>\n",
       "<table border=\"1\" class=\"dataframe\">\n",
       "  <thead>\n",
       "    <tr style=\"text-align: right;\">\n",
       "      <th></th>\n",
       "      <th>Customer ID</th>\n",
       "      <th>Name</th>\n",
       "      <th>Gender</th>\n",
       "      <th>Age</th>\n",
       "      <th>Income (USD)</th>\n",
       "      <th>Income Stability</th>\n",
       "      <th>Profession</th>\n",
       "      <th>Type of Employment</th>\n",
       "      <th>Location</th>\n",
       "      <th>Loan Amount Request (USD)</th>\n",
       "      <th>...</th>\n",
       "      <th>Credit Score</th>\n",
       "      <th>No. of Defaults</th>\n",
       "      <th>Has Active Credit Card</th>\n",
       "      <th>Property ID</th>\n",
       "      <th>Property Age</th>\n",
       "      <th>Property Type</th>\n",
       "      <th>Property Location</th>\n",
       "      <th>Co-Applicant</th>\n",
       "      <th>Property Price</th>\n",
       "      <th>Loan Sanction Amount (USD)</th>\n",
       "    </tr>\n",
       "  </thead>\n",
       "  <tbody>\n",
       "    <tr>\n",
       "      <th>0</th>\n",
       "      <td>C-36995</td>\n",
       "      <td>Frederica Shealy</td>\n",
       "      <td>F</td>\n",
       "      <td>56</td>\n",
       "      <td>1933.05</td>\n",
       "      <td>Low</td>\n",
       "      <td>Working</td>\n",
       "      <td>Sales staff</td>\n",
       "      <td>Semi-Urban</td>\n",
       "      <td>72809.58</td>\n",
       "      <td>...</td>\n",
       "      <td>809.44</td>\n",
       "      <td>0</td>\n",
       "      <td>NaN</td>\n",
       "      <td>746</td>\n",
       "      <td>1933.05</td>\n",
       "      <td>4</td>\n",
       "      <td>Rural</td>\n",
       "      <td>1</td>\n",
       "      <td>119933.46</td>\n",
       "      <td>54607.18</td>\n",
       "    </tr>\n",
       "    <tr>\n",
       "      <th>1</th>\n",
       "      <td>C-33999</td>\n",
       "      <td>America Calderone</td>\n",
       "      <td>M</td>\n",
       "      <td>32</td>\n",
       "      <td>4952.91</td>\n",
       "      <td>Low</td>\n",
       "      <td>Working</td>\n",
       "      <td>NaN</td>\n",
       "      <td>Semi-Urban</td>\n",
       "      <td>46837.47</td>\n",
       "      <td>...</td>\n",
       "      <td>780.40</td>\n",
       "      <td>0</td>\n",
       "      <td>Unpossessed</td>\n",
       "      <td>608</td>\n",
       "      <td>4952.91</td>\n",
       "      <td>2</td>\n",
       "      <td>Rural</td>\n",
       "      <td>1</td>\n",
       "      <td>54791.00</td>\n",
       "      <td>37469.98</td>\n",
       "    </tr>\n",
       "    <tr>\n",
       "      <th>2</th>\n",
       "      <td>C-3770</td>\n",
       "      <td>Rosetta Verne</td>\n",
       "      <td>F</td>\n",
       "      <td>65</td>\n",
       "      <td>988.19</td>\n",
       "      <td>High</td>\n",
       "      <td>Pensioner</td>\n",
       "      <td>NaN</td>\n",
       "      <td>Semi-Urban</td>\n",
       "      <td>45593.04</td>\n",
       "      <td>...</td>\n",
       "      <td>833.15</td>\n",
       "      <td>0</td>\n",
       "      <td>Unpossessed</td>\n",
       "      <td>546</td>\n",
       "      <td>988.19</td>\n",
       "      <td>2</td>\n",
       "      <td>Urban</td>\n",
       "      <td>0</td>\n",
       "      <td>72440.58</td>\n",
       "      <td>36474.43</td>\n",
       "    </tr>\n",
       "    <tr>\n",
       "      <th>3</th>\n",
       "      <td>C-26480</td>\n",
       "      <td>Zoe Chitty</td>\n",
       "      <td>F</td>\n",
       "      <td>65</td>\n",
       "      <td>NaN</td>\n",
       "      <td>High</td>\n",
       "      <td>Pensioner</td>\n",
       "      <td>NaN</td>\n",
       "      <td>Rural</td>\n",
       "      <td>80057.92</td>\n",
       "      <td>...</td>\n",
       "      <td>832.70</td>\n",
       "      <td>1</td>\n",
       "      <td>Unpossessed</td>\n",
       "      <td>890</td>\n",
       "      <td>NaN</td>\n",
       "      <td>2</td>\n",
       "      <td>Semi-Urban</td>\n",
       "      <td>1</td>\n",
       "      <td>121441.51</td>\n",
       "      <td>56040.54</td>\n",
       "    </tr>\n",
       "    <tr>\n",
       "      <th>4</th>\n",
       "      <td>C-23459</td>\n",
       "      <td>Afton Venema</td>\n",
       "      <td>F</td>\n",
       "      <td>31</td>\n",
       "      <td>2614.77</td>\n",
       "      <td>Low</td>\n",
       "      <td>Working</td>\n",
       "      <td>High skill tech staff</td>\n",
       "      <td>Semi-Urban</td>\n",
       "      <td>113858.89</td>\n",
       "      <td>...</td>\n",
       "      <td>745.55</td>\n",
       "      <td>1</td>\n",
       "      <td>Active</td>\n",
       "      <td>715</td>\n",
       "      <td>2614.77</td>\n",
       "      <td>4</td>\n",
       "      <td>Semi-Urban</td>\n",
       "      <td>1</td>\n",
       "      <td>208567.91</td>\n",
       "      <td>74008.28</td>\n",
       "    </tr>\n",
       "  </tbody>\n",
       "</table>\n",
       "<p>5 rows × 24 columns</p>\n",
       "</div>"
      ],
      "text/plain": [
       "  Customer ID               Name Gender  Age  Income (USD) Income Stability  \\\n",
       "0     C-36995   Frederica Shealy      F   56       1933.05              Low   \n",
       "1     C-33999  America Calderone      M   32       4952.91              Low   \n",
       "2      C-3770      Rosetta Verne      F   65        988.19             High   \n",
       "3     C-26480         Zoe Chitty      F   65           NaN             High   \n",
       "4     C-23459       Afton Venema      F   31       2614.77              Low   \n",
       "\n",
       "  Profession     Type of Employment    Location  Loan Amount Request (USD)  \\\n",
       "0    Working            Sales staff  Semi-Urban                   72809.58   \n",
       "1    Working                    NaN  Semi-Urban                   46837.47   \n",
       "2  Pensioner                    NaN  Semi-Urban                   45593.04   \n",
       "3  Pensioner                    NaN       Rural                   80057.92   \n",
       "4    Working  High skill tech staff  Semi-Urban                  113858.89   \n",
       "\n",
       "   ...  Credit Score No. of Defaults Has Active Credit Card  Property ID  \\\n",
       "0  ...        809.44               0                    NaN          746   \n",
       "1  ...        780.40               0            Unpossessed          608   \n",
       "2  ...        833.15               0            Unpossessed          546   \n",
       "3  ...        832.70               1            Unpossessed          890   \n",
       "4  ...        745.55               1                 Active          715   \n",
       "\n",
       "   Property Age  Property Type Property Location  Co-Applicant  \\\n",
       "0       1933.05              4             Rural             1   \n",
       "1       4952.91              2             Rural             1   \n",
       "2        988.19              2             Urban             0   \n",
       "3           NaN              2        Semi-Urban             1   \n",
       "4       2614.77              4        Semi-Urban             1   \n",
       "\n",
       "   Property Price  Loan Sanction Amount (USD)  \n",
       "0       119933.46                    54607.18  \n",
       "1        54791.00                    37469.98  \n",
       "2        72440.58                    36474.43  \n",
       "3       121441.51                    56040.54  \n",
       "4       208567.91                    74008.28  \n",
       "\n",
       "[5 rows x 24 columns]"
      ]
     },
     "execution_count": 3,
     "metadata": {},
     "output_type": "execute_result"
    }
   ],
   "source": [
    "df.head()"
   ]
  },
  {
   "cell_type": "code",
   "execution_count": 4,
   "id": "304d6683",
   "metadata": {},
   "outputs": [
    {
     "data": {
      "text/plain": [
       "(30000, 24)"
      ]
     },
     "execution_count": 4,
     "metadata": {},
     "output_type": "execute_result"
    }
   ],
   "source": [
    "df.shape"
   ]
  },
  {
   "cell_type": "code",
   "execution_count": 5,
   "id": "19aaaff1",
   "metadata": {},
   "outputs": [
    {
     "name": "stdout",
     "output_type": "stream",
     "text": [
      "<class 'pandas.core.frame.DataFrame'>\n",
      "RangeIndex: 30000 entries, 0 to 29999\n",
      "Data columns (total 24 columns):\n",
      " #   Column                       Non-Null Count  Dtype  \n",
      "---  ------                       --------------  -----  \n",
      " 0   Customer ID                  30000 non-null  object \n",
      " 1   Name                         30000 non-null  object \n",
      " 2   Gender                       29947 non-null  object \n",
      " 3   Age                          30000 non-null  int64  \n",
      " 4   Income (USD)                 25424 non-null  float64\n",
      " 5   Income Stability             28317 non-null  object \n",
      " 6   Profession                   30000 non-null  object \n",
      " 7   Type of Employment           22730 non-null  object \n",
      " 8   Location                     30000 non-null  object \n",
      " 9   Loan Amount Request (USD)    30000 non-null  float64\n",
      " 10  Current Loan Expenses (USD)  29828 non-null  float64\n",
      " 11  Expense Type 1               30000 non-null  object \n",
      " 12  Expense Type 2               30000 non-null  object \n",
      " 13  Dependents                   27507 non-null  float64\n",
      " 14  Credit Score                 28297 non-null  float64\n",
      " 15  No. of Defaults              30000 non-null  int64  \n",
      " 16  Has Active Credit Card       28434 non-null  object \n",
      " 17  Property ID                  30000 non-null  int64  \n",
      " 18  Property Age                 25150 non-null  float64\n",
      " 19  Property Type                30000 non-null  int64  \n",
      " 20  Property Location            29644 non-null  object \n",
      " 21  Co-Applicant                 30000 non-null  int64  \n",
      " 22  Property Price               30000 non-null  float64\n",
      " 23  Loan Sanction Amount (USD)   29660 non-null  float64\n",
      "dtypes: float64(8), int64(5), object(11)\n",
      "memory usage: 5.5+ MB\n"
     ]
    }
   ],
   "source": [
    "df.info()"
   ]
  },
  {
   "cell_type": "code",
   "execution_count": 6,
   "id": "e45e1992",
   "metadata": {
    "scrolled": true
   },
   "outputs": [
    {
     "data": {
      "text/plain": [
       "Customer ID                       0\n",
       "Name                              0\n",
       "Gender                           53\n",
       "Age                               0\n",
       "Income (USD)                   4576\n",
       "Income Stability               1683\n",
       "Profession                        0\n",
       "Type of Employment             7270\n",
       "Location                          0\n",
       "Loan Amount Request (USD)         0\n",
       "Current Loan Expenses (USD)     172\n",
       "Expense Type 1                    0\n",
       "Expense Type 2                    0\n",
       "Dependents                     2493\n",
       "Credit Score                   1703\n",
       "No. of Defaults                   0\n",
       "Has Active Credit Card         1566\n",
       "Property ID                       0\n",
       "Property Age                   4850\n",
       "Property Type                     0\n",
       "Property Location               356\n",
       "Co-Applicant                      0\n",
       "Property Price                    0\n",
       "Loan Sanction Amount (USD)      340\n",
       "dtype: int64"
      ]
     },
     "execution_count": 6,
     "metadata": {},
     "output_type": "execute_result"
    }
   ],
   "source": [
    "df.isnull().sum()"
   ]
  },
  {
   "cell_type": "code",
   "execution_count": 7,
   "id": "2a2bc478",
   "metadata": {},
   "outputs": [],
   "source": [
    "df.drop(['Customer ID','Name','Property ID'],axis=1,inplace=True)"
   ]
  },
  {
   "cell_type": "code",
   "execution_count": 8,
   "id": "de007a21",
   "metadata": {},
   "outputs": [
    {
     "data": {
      "text/html": [
       "<div>\n",
       "<style scoped>\n",
       "    .dataframe tbody tr th:only-of-type {\n",
       "        vertical-align: middle;\n",
       "    }\n",
       "\n",
       "    .dataframe tbody tr th {\n",
       "        vertical-align: top;\n",
       "    }\n",
       "\n",
       "    .dataframe thead th {\n",
       "        text-align: right;\n",
       "    }\n",
       "</style>\n",
       "<table border=\"1\" class=\"dataframe\">\n",
       "  <thead>\n",
       "    <tr style=\"text-align: right;\">\n",
       "      <th></th>\n",
       "      <th>Gender</th>\n",
       "      <th>Age</th>\n",
       "      <th>Income (USD)</th>\n",
       "      <th>Income Stability</th>\n",
       "      <th>Profession</th>\n",
       "      <th>Type of Employment</th>\n",
       "      <th>Location</th>\n",
       "      <th>Loan Amount Request (USD)</th>\n",
       "      <th>Current Loan Expenses (USD)</th>\n",
       "      <th>Expense Type 1</th>\n",
       "      <th>...</th>\n",
       "      <th>Dependents</th>\n",
       "      <th>Credit Score</th>\n",
       "      <th>No. of Defaults</th>\n",
       "      <th>Has Active Credit Card</th>\n",
       "      <th>Property Age</th>\n",
       "      <th>Property Type</th>\n",
       "      <th>Property Location</th>\n",
       "      <th>Co-Applicant</th>\n",
       "      <th>Property Price</th>\n",
       "      <th>Loan Sanction Amount (USD)</th>\n",
       "    </tr>\n",
       "  </thead>\n",
       "  <tbody>\n",
       "    <tr>\n",
       "      <th>0</th>\n",
       "      <td>F</td>\n",
       "      <td>56</td>\n",
       "      <td>1933.05</td>\n",
       "      <td>Low</td>\n",
       "      <td>Working</td>\n",
       "      <td>Sales staff</td>\n",
       "      <td>Semi-Urban</td>\n",
       "      <td>72809.58</td>\n",
       "      <td>241.08</td>\n",
       "      <td>N</td>\n",
       "      <td>...</td>\n",
       "      <td>3.0</td>\n",
       "      <td>809.44</td>\n",
       "      <td>0</td>\n",
       "      <td>NaN</td>\n",
       "      <td>1933.05</td>\n",
       "      <td>4</td>\n",
       "      <td>Rural</td>\n",
       "      <td>1</td>\n",
       "      <td>119933.46</td>\n",
       "      <td>54607.18</td>\n",
       "    </tr>\n",
       "    <tr>\n",
       "      <th>1</th>\n",
       "      <td>M</td>\n",
       "      <td>32</td>\n",
       "      <td>4952.91</td>\n",
       "      <td>Low</td>\n",
       "      <td>Working</td>\n",
       "      <td>NaN</td>\n",
       "      <td>Semi-Urban</td>\n",
       "      <td>46837.47</td>\n",
       "      <td>495.81</td>\n",
       "      <td>N</td>\n",
       "      <td>...</td>\n",
       "      <td>1.0</td>\n",
       "      <td>780.40</td>\n",
       "      <td>0</td>\n",
       "      <td>Unpossessed</td>\n",
       "      <td>4952.91</td>\n",
       "      <td>2</td>\n",
       "      <td>Rural</td>\n",
       "      <td>1</td>\n",
       "      <td>54791.00</td>\n",
       "      <td>37469.98</td>\n",
       "    </tr>\n",
       "    <tr>\n",
       "      <th>2</th>\n",
       "      <td>F</td>\n",
       "      <td>65</td>\n",
       "      <td>988.19</td>\n",
       "      <td>High</td>\n",
       "      <td>Pensioner</td>\n",
       "      <td>NaN</td>\n",
       "      <td>Semi-Urban</td>\n",
       "      <td>45593.04</td>\n",
       "      <td>171.95</td>\n",
       "      <td>N</td>\n",
       "      <td>...</td>\n",
       "      <td>1.0</td>\n",
       "      <td>833.15</td>\n",
       "      <td>0</td>\n",
       "      <td>Unpossessed</td>\n",
       "      <td>988.19</td>\n",
       "      <td>2</td>\n",
       "      <td>Urban</td>\n",
       "      <td>0</td>\n",
       "      <td>72440.58</td>\n",
       "      <td>36474.43</td>\n",
       "    </tr>\n",
       "    <tr>\n",
       "      <th>3</th>\n",
       "      <td>F</td>\n",
       "      <td>65</td>\n",
       "      <td>NaN</td>\n",
       "      <td>High</td>\n",
       "      <td>Pensioner</td>\n",
       "      <td>NaN</td>\n",
       "      <td>Rural</td>\n",
       "      <td>80057.92</td>\n",
       "      <td>298.54</td>\n",
       "      <td>N</td>\n",
       "      <td>...</td>\n",
       "      <td>2.0</td>\n",
       "      <td>832.70</td>\n",
       "      <td>1</td>\n",
       "      <td>Unpossessed</td>\n",
       "      <td>NaN</td>\n",
       "      <td>2</td>\n",
       "      <td>Semi-Urban</td>\n",
       "      <td>1</td>\n",
       "      <td>121441.51</td>\n",
       "      <td>56040.54</td>\n",
       "    </tr>\n",
       "    <tr>\n",
       "      <th>4</th>\n",
       "      <td>F</td>\n",
       "      <td>31</td>\n",
       "      <td>2614.77</td>\n",
       "      <td>Low</td>\n",
       "      <td>Working</td>\n",
       "      <td>High skill tech staff</td>\n",
       "      <td>Semi-Urban</td>\n",
       "      <td>113858.89</td>\n",
       "      <td>491.41</td>\n",
       "      <td>N</td>\n",
       "      <td>...</td>\n",
       "      <td>NaN</td>\n",
       "      <td>745.55</td>\n",
       "      <td>1</td>\n",
       "      <td>Active</td>\n",
       "      <td>2614.77</td>\n",
       "      <td>4</td>\n",
       "      <td>Semi-Urban</td>\n",
       "      <td>1</td>\n",
       "      <td>208567.91</td>\n",
       "      <td>74008.28</td>\n",
       "    </tr>\n",
       "  </tbody>\n",
       "</table>\n",
       "<p>5 rows × 21 columns</p>\n",
       "</div>"
      ],
      "text/plain": [
       "  Gender  Age  Income (USD) Income Stability Profession  \\\n",
       "0      F   56       1933.05              Low    Working   \n",
       "1      M   32       4952.91              Low    Working   \n",
       "2      F   65        988.19             High  Pensioner   \n",
       "3      F   65           NaN             High  Pensioner   \n",
       "4      F   31       2614.77              Low    Working   \n",
       "\n",
       "      Type of Employment    Location  Loan Amount Request (USD)  \\\n",
       "0            Sales staff  Semi-Urban                   72809.58   \n",
       "1                    NaN  Semi-Urban                   46837.47   \n",
       "2                    NaN  Semi-Urban                   45593.04   \n",
       "3                    NaN       Rural                   80057.92   \n",
       "4  High skill tech staff  Semi-Urban                  113858.89   \n",
       "\n",
       "   Current Loan Expenses (USD) Expense Type 1  ... Dependents  Credit Score  \\\n",
       "0                       241.08              N  ...        3.0        809.44   \n",
       "1                       495.81              N  ...        1.0        780.40   \n",
       "2                       171.95              N  ...        1.0        833.15   \n",
       "3                       298.54              N  ...        2.0        832.70   \n",
       "4                       491.41              N  ...        NaN        745.55   \n",
       "\n",
       "   No. of Defaults  Has Active Credit Card Property Age  Property Type  \\\n",
       "0                0                     NaN      1933.05              4   \n",
       "1                0             Unpossessed      4952.91              2   \n",
       "2                0             Unpossessed       988.19              2   \n",
       "3                1             Unpossessed          NaN              2   \n",
       "4                1                  Active      2614.77              4   \n",
       "\n",
       "   Property Location Co-Applicant  Property Price  Loan Sanction Amount (USD)  \n",
       "0              Rural            1       119933.46                    54607.18  \n",
       "1              Rural            1        54791.00                    37469.98  \n",
       "2              Urban            0        72440.58                    36474.43  \n",
       "3         Semi-Urban            1       121441.51                    56040.54  \n",
       "4         Semi-Urban            1       208567.91                    74008.28  \n",
       "\n",
       "[5 rows x 21 columns]"
      ]
     },
     "execution_count": 8,
     "metadata": {},
     "output_type": "execute_result"
    }
   ],
   "source": [
    "df.head()"
   ]
  },
  {
   "cell_type": "markdown",
   "id": "cbb30b54",
   "metadata": {},
   "source": [
    "## Removing NaN values"
   ]
  },
  {
   "cell_type": "code",
   "execution_count": 9,
   "id": "563b9ba4",
   "metadata": {},
   "outputs": [
    {
     "data": {
      "text/plain": [
       "<AxesSubplot:>"
      ]
     },
     "execution_count": 9,
     "metadata": {},
     "output_type": "execute_result"
    },
    {
     "data": {
      "image/png": "[encoded data removed]",
      "text/plain": [
       "<Figure size 432x288 with 1 Axes>"
      ]
     },
     "metadata": {
      "needs_background": "light"
     },
     "output_type": "display_data"
    }
   ],
   "source": [
    "sns.heatmap(df.isnull(),yticklabels=False,cbar=False,cmap='viridis')"
   ]
  },
  {
   "cell_type": "code",
   "execution_count": 10,
   "id": "a975edd1",
   "metadata": {},
   "outputs": [
    {
     "data": {
      "text/plain": [
       "<AxesSubplot:xlabel='Gender', ylabel='count'>"
      ]
     },
     "execution_count": 10,
     "metadata": {},
     "output_type": "execute_result"
    },
    {
     "data": {
      "image/png": "[encoded data removed]",
      "text/plain": [
       "<Figure size 432x288 with 1 Axes>"
      ]
     },
     "metadata": {
      "needs_background": "light"
     },
     "output_type": "display_data"
    }
   ],
   "source": [
    "sns.countplot(x='Gender',data=df)"
   ]
  },
  {
   "cell_type": "code",
   "execution_count": 11,
   "id": "b9631ddb",
   "metadata": {},
   "outputs": [
    {
     "data": {
      "text/plain": [
       "M    15053\n",
       "F    14894\n",
       "Name: Gender, dtype: int64"
      ]
     },
     "execution_count": 11,
     "metadata": {},
     "output_type": "execute_result"
    }
   ],
   "source": [
    "df['Gender'].value_counts()"
   ]
  },
  {
   "cell_type": "code",
   "execution_count": 12,
   "id": "92acc8e8",
   "metadata": {},
   "outputs": [],
   "source": [
    "#filling null with mode of gender\n",
    "df['Gender'] = df['Gender'].fillna(df['Gender'].mode()[0])"
   ]
  },
  {
   "cell_type": "code",
   "execution_count": 13,
   "id": "4a42cdcd",
   "metadata": {},
   "outputs": [
    {
     "data": {
      "text/plain": [
       "array(['F', 'M'], dtype=object)"
      ]
     },
     "execution_count": 13,
     "metadata": {},
     "output_type": "execute_result"
    }
   ],
   "source": [
    "df['Gender'].unique()"
   ]
  },
  {
   "cell_type": "code",
   "execution_count": 14,
   "id": "8acc5540",
   "metadata": {},
   "outputs": [],
   "source": [
    "#filling null with mode of Property Age\n",
    "df['Property Age'] = df['Property Age'].fillna(df['Property Age'].mode()[0])"
   ]
  },
  {
   "cell_type": "code",
   "execution_count": 15,
   "id": "edb65553",
   "metadata": {
    "scrolled": true
   },
   "outputs": [
    {
     "data": {
      "text/html": [
       "<div>\n",
       "<style scoped>\n",
       "    .dataframe tbody tr th:only-of-type {\n",
       "        vertical-align: middle;\n",
       "    }\n",
       "\n",
       "    .dataframe tbody tr th {\n",
       "        vertical-align: top;\n",
       "    }\n",
       "\n",
       "    .dataframe thead th {\n",
       "        text-align: right;\n",
       "    }\n",
       "</style>\n",
       "<table border=\"1\" class=\"dataframe\">\n",
       "  <thead>\n",
       "    <tr style=\"text-align: right;\">\n",
       "      <th></th>\n",
       "      <th>Gender</th>\n",
       "      <th>Age</th>\n",
       "      <th>Income (USD)</th>\n",
       "      <th>Income Stability</th>\n",
       "      <th>Profession</th>\n",
       "      <th>Type of Employment</th>\n",
       "      <th>Location</th>\n",
       "      <th>Loan Amount Request (USD)</th>\n",
       "      <th>Current Loan Expenses (USD)</th>\n",
       "      <th>Expense Type 1</th>\n",
       "      <th>...</th>\n",
       "      <th>Dependents</th>\n",
       "      <th>Credit Score</th>\n",
       "      <th>No. of Defaults</th>\n",
       "      <th>Has Active Credit Card</th>\n",
       "      <th>Property Age</th>\n",
       "      <th>Property Type</th>\n",
       "      <th>Property Location</th>\n",
       "      <th>Co-Applicant</th>\n",
       "      <th>Property Price</th>\n",
       "      <th>Loan Sanction Amount (USD)</th>\n",
       "    </tr>\n",
       "  </thead>\n",
       "  <tbody>\n",
       "    <tr>\n",
       "      <th>0</th>\n",
       "      <td>F</td>\n",
       "      <td>56</td>\n",
       "      <td>1933.05</td>\n",
       "      <td>Low</td>\n",
       "      <td>Working</td>\n",
       "      <td>Sales staff</td>\n",
       "      <td>Semi-Urban</td>\n",
       "      <td>72809.58</td>\n",
       "      <td>241.08</td>\n",
       "      <td>N</td>\n",
       "      <td>...</td>\n",
       "      <td>3.0</td>\n",
       "      <td>809.44</td>\n",
       "      <td>0</td>\n",
       "      <td>NaN</td>\n",
       "      <td>1933.05</td>\n",
       "      <td>4</td>\n",
       "      <td>Rural</td>\n",
       "      <td>1</td>\n",
       "      <td>119933.46</td>\n",
       "      <td>54607.18</td>\n",
       "    </tr>\n",
       "    <tr>\n",
       "      <th>1</th>\n",
       "      <td>M</td>\n",
       "      <td>32</td>\n",
       "      <td>4952.91</td>\n",
       "      <td>Low</td>\n",
       "      <td>Working</td>\n",
       "      <td>NaN</td>\n",
       "      <td>Semi-Urban</td>\n",
       "      <td>46837.47</td>\n",
       "      <td>495.81</td>\n",
       "      <td>N</td>\n",
       "      <td>...</td>\n",
       "      <td>1.0</td>\n",
       "      <td>780.40</td>\n",
       "      <td>0</td>\n",
       "      <td>Unpossessed</td>\n",
       "      <td>4952.91</td>\n",
       "      <td>2</td>\n",
       "      <td>Rural</td>\n",
       "      <td>1</td>\n",
       "      <td>54791.00</td>\n",
       "      <td>37469.98</td>\n",
       "    </tr>\n",
       "    <tr>\n",
       "      <th>2</th>\n",
       "      <td>F</td>\n",
       "      <td>65</td>\n",
       "      <td>988.19</td>\n",
       "      <td>High</td>\n",
       "      <td>Pensioner</td>\n",
       "      <td>NaN</td>\n",
       "      <td>Semi-Urban</td>\n",
       "      <td>45593.04</td>\n",
       "      <td>171.95</td>\n",
       "      <td>N</td>\n",
       "      <td>...</td>\n",
       "      <td>1.0</td>\n",
       "      <td>833.15</td>\n",
       "      <td>0</td>\n",
       "      <td>Unpossessed</td>\n",
       "      <td>988.19</td>\n",
       "      <td>2</td>\n",
       "      <td>Urban</td>\n",
       "      <td>0</td>\n",
       "      <td>72440.58</td>\n",
       "      <td>36474.43</td>\n",
       "    </tr>\n",
       "    <tr>\n",
       "      <th>3</th>\n",
       "      <td>F</td>\n",
       "      <td>65</td>\n",
       "      <td>NaN</td>\n",
       "      <td>High</td>\n",
       "      <td>Pensioner</td>\n",
       "      <td>NaN</td>\n",
       "      <td>Rural</td>\n",
       "      <td>80057.92</td>\n",
       "      <td>298.54</td>\n",
       "      <td>N</td>\n",
       "      <td>...</td>\n",
       "      <td>2.0</td>\n",
       "      <td>832.70</td>\n",
       "      <td>1</td>\n",
       "      <td>Unpossessed</td>\n",
       "      <td>1608.43</td>\n",
       "      <td>2</td>\n",
       "      <td>Semi-Urban</td>\n",
       "      <td>1</td>\n",
       "      <td>121441.51</td>\n",
       "      <td>56040.54</td>\n",
       "    </tr>\n",
       "    <tr>\n",
       "      <th>4</th>\n",
       "      <td>F</td>\n",
       "      <td>31</td>\n",
       "      <td>2614.77</td>\n",
       "      <td>Low</td>\n",
       "      <td>Working</td>\n",
       "      <td>High skill tech staff</td>\n",
       "      <td>Semi-Urban</td>\n",
       "      <td>113858.89</td>\n",
       "      <td>491.41</td>\n",
       "      <td>N</td>\n",
       "      <td>...</td>\n",
       "      <td>NaN</td>\n",
       "      <td>745.55</td>\n",
       "      <td>1</td>\n",
       "      <td>Active</td>\n",
       "      <td>2614.77</td>\n",
       "      <td>4</td>\n",
       "      <td>Semi-Urban</td>\n",
       "      <td>1</td>\n",
       "      <td>208567.91</td>\n",
       "      <td>74008.28</td>\n",
       "    </tr>\n",
       "    <tr>\n",
       "      <th>5</th>\n",
       "      <td>F</td>\n",
       "      <td>60</td>\n",
       "      <td>1234.92</td>\n",
       "      <td>Low</td>\n",
       "      <td>State servant</td>\n",
       "      <td>Secretaries</td>\n",
       "      <td>Rural</td>\n",
       "      <td>34434.72</td>\n",
       "      <td>181.48</td>\n",
       "      <td>N</td>\n",
       "      <td>...</td>\n",
       "      <td>2.0</td>\n",
       "      <td>684.12</td>\n",
       "      <td>1</td>\n",
       "      <td>Inactive</td>\n",
       "      <td>1234.92</td>\n",
       "      <td>2</td>\n",
       "      <td>Rural</td>\n",
       "      <td>1</td>\n",
       "      <td>43146.82</td>\n",
       "      <td>22382.57</td>\n",
       "    </tr>\n",
       "    <tr>\n",
       "      <th>6</th>\n",
       "      <td>M</td>\n",
       "      <td>43</td>\n",
       "      <td>2361.56</td>\n",
       "      <td>Low</td>\n",
       "      <td>Working</td>\n",
       "      <td>Laborers</td>\n",
       "      <td>Semi-Urban</td>\n",
       "      <td>152561.34</td>\n",
       "      <td>697.67</td>\n",
       "      <td>Y</td>\n",
       "      <td>...</td>\n",
       "      <td>2.0</td>\n",
       "      <td>637.29</td>\n",
       "      <td>0</td>\n",
       "      <td>Unpossessed</td>\n",
       "      <td>2361.56</td>\n",
       "      <td>1</td>\n",
       "      <td>Semi-Urban</td>\n",
       "      <td>1</td>\n",
       "      <td>221050.80</td>\n",
       "      <td>0.00</td>\n",
       "    </tr>\n",
       "    <tr>\n",
       "      <th>7</th>\n",
       "      <td>F</td>\n",
       "      <td>45</td>\n",
       "      <td>NaN</td>\n",
       "      <td>Low</td>\n",
       "      <td>State servant</td>\n",
       "      <td>Managers</td>\n",
       "      <td>Semi-Urban</td>\n",
       "      <td>240311.77</td>\n",
       "      <td>807.64</td>\n",
       "      <td>N</td>\n",
       "      <td>...</td>\n",
       "      <td>2.0</td>\n",
       "      <td>812.26</td>\n",
       "      <td>0</td>\n",
       "      <td>Active</td>\n",
       "      <td>1608.43</td>\n",
       "      <td>2</td>\n",
       "      <td>Urban</td>\n",
       "      <td>1</td>\n",
       "      <td>401040.70</td>\n",
       "      <td>168218.24</td>\n",
       "    </tr>\n",
       "    <tr>\n",
       "      <th>8</th>\n",
       "      <td>F</td>\n",
       "      <td>38</td>\n",
       "      <td>1296.07</td>\n",
       "      <td>Low</td>\n",
       "      <td>Working</td>\n",
       "      <td>Cooking staff</td>\n",
       "      <td>Rural</td>\n",
       "      <td>35141.99</td>\n",
       "      <td>155.95</td>\n",
       "      <td>N</td>\n",
       "      <td>...</td>\n",
       "      <td>3.0</td>\n",
       "      <td>705.29</td>\n",
       "      <td>1</td>\n",
       "      <td>Active</td>\n",
       "      <td>1296.07</td>\n",
       "      <td>4</td>\n",
       "      <td>Rural</td>\n",
       "      <td>1</td>\n",
       "      <td>54903.44</td>\n",
       "      <td>22842.29</td>\n",
       "    </tr>\n",
       "    <tr>\n",
       "      <th>9</th>\n",
       "      <td>M</td>\n",
       "      <td>18</td>\n",
       "      <td>1546.17</td>\n",
       "      <td>Low</td>\n",
       "      <td>Working</td>\n",
       "      <td>Laborers</td>\n",
       "      <td>Rural</td>\n",
       "      <td>42091.29</td>\n",
       "      <td>500.20</td>\n",
       "      <td>N</td>\n",
       "      <td>...</td>\n",
       "      <td>2.0</td>\n",
       "      <td>613.24</td>\n",
       "      <td>0</td>\n",
       "      <td>Unpossessed</td>\n",
       "      <td>1546.17</td>\n",
       "      <td>2</td>\n",
       "      <td>Urban</td>\n",
       "      <td>1</td>\n",
       "      <td>67993.43</td>\n",
       "      <td>0.00</td>\n",
       "    </tr>\n",
       "  </tbody>\n",
       "</table>\n",
       "<p>10 rows × 21 columns</p>\n",
       "</div>"
      ],
      "text/plain": [
       "  Gender  Age  Income (USD) Income Stability     Profession  \\\n",
       "0      F   56       1933.05              Low        Working   \n",
       "1      M   32       4952.91              Low        Working   \n",
       "2      F   65        988.19             High      Pensioner   \n",
       "3      F   65           NaN             High      Pensioner   \n",
       "4      F   31       2614.77              Low        Working   \n",
       "5      F   60       1234.92              Low  State servant   \n",
       "6      M   43       2361.56              Low        Working   \n",
       "7      F   45           NaN              Low  State servant   \n",
       "8      F   38       1296.07              Low        Working   \n",
       "9      M   18       1546.17              Low        Working   \n",
       "\n",
       "      Type of Employment    Location  Loan Amount Request (USD)  \\\n",
       "0            Sales staff  Semi-Urban                   72809.58   \n",
       "1                    NaN  Semi-Urban                   46837.47   \n",
       "2                    NaN  Semi-Urban                   45593.04   \n",
       "3                    NaN       Rural                   80057.92   \n",
       "4  High skill tech staff  Semi-Urban                  113858.89   \n",
       "5            Secretaries       Rural                   34434.72   \n",
       "6               Laborers  Semi-Urban                  152561.34   \n",
       "7               Managers  Semi-Urban                  240311.77   \n",
       "8          Cooking staff       Rural                   35141.99   \n",
       "9               Laborers       Rural                   42091.29   \n",
       "\n",
       "   Current Loan Expenses (USD) Expense Type 1  ... Dependents  Credit Score  \\\n",
       "0                       241.08              N  ...        3.0        809.44   \n",
       "1                       495.81              N  ...        1.0        780.40   \n",
       "2                       171.95              N  ...        1.0        833.15   \n",
       "3                       298.54              N  ...        2.0        832.70   \n",
       "4                       491.41              N  ...        NaN        745.55   \n",
       "5                       181.48              N  ...        2.0        684.12   \n",
       "6                       697.67              Y  ...        2.0        637.29   \n",
       "7                       807.64              N  ...        2.0        812.26   \n",
       "8                       155.95              N  ...        3.0        705.29   \n",
       "9                       500.20              N  ...        2.0        613.24   \n",
       "\n",
       "   No. of Defaults  Has Active Credit Card Property Age  Property Type  \\\n",
       "0                0                     NaN      1933.05              4   \n",
       "1                0             Unpossessed      4952.91              2   \n",
       "2                0             Unpossessed       988.19              2   \n",
       "3                1             Unpossessed      1608.43              2   \n",
       "4                1                  Active      2614.77              4   \n",
       "5                1                Inactive      1234.92              2   \n",
       "6                0             Unpossessed      2361.56              1   \n",
       "7                0                  Active      1608.43              2   \n",
       "8                1                  Active      1296.07              4   \n",
       "9                0             Unpossessed      1546.17              2   \n",
       "\n",
       "   Property Location Co-Applicant  Property Price  Loan Sanction Amount (USD)  \n",
       "0              Rural            1       119933.46                    54607.18  \n",
       "1              Rural            1        54791.00                    37469.98  \n",
       "2              Urban            0        72440.58                    36474.43  \n",
       "3         Semi-Urban            1       121441.51                    56040.54  \n",
       "4         Semi-Urban            1       208567.91                    74008.28  \n",
       "5              Rural            1        43146.82                    22382.57  \n",
       "6         Semi-Urban            1       221050.80                        0.00  \n",
       "7              Urban            1       401040.70                   168218.24  \n",
       "8              Rural            1        54903.44                    22842.29  \n",
       "9              Urban            1        67993.43                        0.00  \n",
       "\n",
       "[10 rows x 21 columns]"
      ]
     },
     "execution_count": 15,
     "metadata": {},
     "output_type": "execute_result"
    }
   ],
   "source": [
    "df.head(10)"
   ]
  },
  {
   "cell_type": "code",
   "execution_count": 16,
   "id": "cbdd1751",
   "metadata": {},
   "outputs": [
    {
     "data": {
      "text/plain": [
       "<AxesSubplot:xlabel='Has Active Credit Card', ylabel='count'>"
      ]
     },
     "execution_count": 16,
     "metadata": {},
     "output_type": "execute_result"
    },
    {
     "data": {
      "image/png": "[encoded data removed]",
      "text/plain": [
       "<Figure size 432x288 with 1 Axes>"
      ]
     },
     "metadata": {
      "needs_background": "light"
     },
     "output_type": "display_data"
    }
   ],
   "source": [
    "sns.countplot(x='Has Active Credit Card',data=df)"
   ]
  },
  {
   "cell_type": "code",
   "execution_count": 17,
   "id": "4a7296b4",
   "metadata": {},
   "outputs": [],
   "source": [
    "#filling null with mode of Has Active Credit Card\n",
    "df['Has Active Credit Card'] = df['Has Active Credit Card'].fillna(df['Has Active Credit Card'].mode()[0])"
   ]
  },
  {
   "cell_type": "code",
   "execution_count": 18,
   "id": "66a8ed30",
   "metadata": {},
   "outputs": [
    {
     "data": {
      "text/plain": [
       "<AxesSubplot:xlabel='Dependents', ylabel='Age'>"
      ]
     },
     "execution_count": 18,
     "metadata": {},
     "output_type": "execute_result"
    },
    {
     "data": {
      "image/png": "[encoded data removed]",
      "text/plain": [
       "<Figure size 864x504 with 1 Axes>"
      ]
     },
     "metadata": {
      "needs_background": "light"
     },
     "output_type": "display_data"
    }
   ],
   "source": [
    "plt.figure(figsize=(12, 7))\n",
    "sns.boxplot(x='Dependents',y='Age',data=df,palette='winter')"
   ]
  },
  {
   "cell_type": "code",
   "execution_count": 19,
   "id": "3ee195f2",
   "metadata": {},
   "outputs": [],
   "source": [
    "#filling null with mode of Dependents\n",
    "df['Dependents'] = df['Dependents'].fillna(df['Dependents'].mode()[0])"
   ]
  },
  {
   "cell_type": "code",
   "execution_count": 20,
   "id": "3cbe37cc",
   "metadata": {},
   "outputs": [
    {
     "data": {
      "text/plain": [
       "array(['Working', 'Pensioner', 'State servant', 'Commercial associate',\n",
       "       'Unemployed', 'Student', 'Businessman', 'Maternity leave'],\n",
       "      dtype=object)"
      ]
     },
     "execution_count": 20,
     "metadata": {},
     "output_type": "execute_result"
    }
   ],
   "source": [
    "#filling null of Income Stability using Profesion\n",
    "df['Profession'].unique()"
   ]
  },
  {
   "cell_type": "code",
   "execution_count": 21,
   "id": "b66207f7",
   "metadata": {},
   "outputs": [
    {
     "data": {
      "text/plain": [
       "array(['Low', 'High', nan], dtype=object)"
      ]
     },
     "execution_count": 21,
     "metadata": {},
     "output_type": "execute_result"
    }
   ],
   "source": [
    "df['Income Stability'].unique()"
   ]
  },
  {
   "cell_type": "code",
   "execution_count": 22,
   "id": "facf922f",
   "metadata": {},
   "outputs": [],
   "source": [
    "def income_stab(x):\n",
    "    if x=='Pensioner' or 'Unemployed':return 'High'\n",
    "    else:return 'Low'"
   ]
  },
  {
   "cell_type": "code",
   "execution_count": 23,
   "id": "dcb00345",
   "metadata": {},
   "outputs": [],
   "source": [
    "df['Income Stability']=df['Income Stability'].fillna(df['Profession'].apply(income_stab))"
   ]
  },
  {
   "cell_type": "code",
   "execution_count": 24,
   "id": "ef83eff3",
   "metadata": {},
   "outputs": [
    {
     "data": {
      "text/plain": [
       "580.0"
      ]
     },
     "execution_count": 24,
     "metadata": {},
     "output_type": "execute_result"
    }
   ],
   "source": [
    "df['Credit Score'].min()"
   ]
  },
  {
   "cell_type": "code",
   "execution_count": 25,
   "id": "bf76f273",
   "metadata": {},
   "outputs": [
    {
     "data": {
      "text/plain": [
       "792.76"
      ]
     },
     "execution_count": 25,
     "metadata": {},
     "output_type": "execute_result"
    }
   ],
   "source": [
    "df['Credit Score'].mode()[0]"
   ]
  },
  {
   "cell_type": "code",
   "execution_count": 26,
   "id": "eb90b2f9",
   "metadata": {},
   "outputs": [],
   "source": [
    "#filling null values of Credit Score with mode of itself\n",
    "df['Credit Score'] = df['Credit Score'].fillna(df['Credit Score'].mode()[0])"
   ]
  },
  {
   "cell_type": "code",
   "execution_count": 27,
   "id": "77b561c6",
   "metadata": {},
   "outputs": [
    {
     "data": {
      "text/plain": [
       "Gender                            0\n",
       "Age                               0\n",
       "Income (USD)                   4576\n",
       "Income Stability                  0\n",
       "Profession                        0\n",
       "Type of Employment             7270\n",
       "Location                          0\n",
       "Loan Amount Request (USD)         0\n",
       "Current Loan Expenses (USD)     172\n",
       "Expense Type 1                    0\n",
       "Expense Type 2                    0\n",
       "Dependents                        0\n",
       "Credit Score                      0\n",
       "No. of Defaults                   0\n",
       "Has Active Credit Card            0\n",
       "Property Age                      0\n",
       "Property Type                     0\n",
       "Property Location               356\n",
       "Co-Applicant                      0\n",
       "Property Price                    0\n",
       "Loan Sanction Amount (USD)      340\n",
       "dtype: int64"
      ]
     },
     "execution_count": 27,
     "metadata": {},
     "output_type": "execute_result"
    }
   ],
   "source": [
    "df.isnull().sum()"
   ]
  },
  {
   "cell_type": "code",
   "execution_count": 28,
   "id": "3c373d85",
   "metadata": {
    "scrolled": true
   },
   "outputs": [
    {
     "data": {
      "text/plain": [
       "(30000, 21)"
      ]
     },
     "execution_count": 28,
     "metadata": {},
     "output_type": "execute_result"
    }
   ],
   "source": [
    "df.shape"
   ]
  },
  {
   "cell_type": "code",
   "execution_count": 29,
   "id": "80eba2f9",
   "metadata": {},
   "outputs": [],
   "source": [
    "def loan_pred(x):\n",
    "    if x==0 or x==np.nan:\n",
    "        return 0\n",
    "    else: return 1"
   ]
  },
  {
   "cell_type": "code",
   "execution_count": 30,
   "id": "7f7d817a",
   "metadata": {},
   "outputs": [],
   "source": [
    "#filling null and other data with descrete unitsf\n",
    "df['Loan Sanction Amount (USD)']=df['Loan Sanction Amount (USD)'].apply(loan_pred)"
   ]
  },
  {
   "cell_type": "code",
   "execution_count": 31,
   "id": "d0a163fc",
   "metadata": {},
   "outputs": [
    {
     "data": {
      "text/plain": [
       "<AxesSubplot:xlabel='Loan Sanction Amount (USD)', ylabel='count'>"
      ]
     },
     "execution_count": 31,
     "metadata": {},
     "output_type": "execute_result"
    },
    {
     "data": {
      "image/png": "[encoded data removed]",
      "text/plain": [
       "<Figure size 432x288 with 1 Axes>"
      ]
     },
     "metadata": {
      "needs_background": "light"
     },
     "output_type": "display_data"
    }
   ],
   "source": [
    "sns.countplot(x='Loan Sanction Amount (USD)',data=df)"
   ]
  },
  {
   "cell_type": "code",
   "execution_count": 32,
   "id": "043ad919",
   "metadata": {},
   "outputs": [
    {
     "data": {
      "text/plain": [
       "<AxesSubplot:xlabel='Property Location', ylabel='count'>"
      ]
     },
     "execution_count": 32,
     "metadata": {},
     "output_type": "execute_result"
    },
    {
     "data": {
      "image/png": "[encoded data removed]",
      "text/plain": [
       "<Figure size 432x288 with 1 Axes>"
      ]
     },
     "metadata": {
      "needs_background": "light"
     },
     "output_type": "display_data"
    }
   ],
   "source": [
    "sns.countplot(x='Property Location',facecolor = (0,0,0,0),data=df,linewidth=10,edgecolor=sns.color_palette(\"Blues\", 1))"
   ]
  },
  {
   "cell_type": "code",
   "execution_count": 33,
   "id": "a9eaca0b",
   "metadata": {},
   "outputs": [],
   "source": [
    "#filling null values of Property Location with mode of itself\n",
    "df['Property Location']=df['Property Location'].fillna(df['Property Location'].mode()[0])"
   ]
  },
  {
   "cell_type": "code",
   "execution_count": 34,
   "id": "4a701640",
   "metadata": {},
   "outputs": [
    {
     "data": {
      "text/plain": [
       "array(['Rural', 'Urban', 'Semi-Urban'], dtype=object)"
      ]
     },
     "execution_count": 34,
     "metadata": {},
     "output_type": "execute_result"
    }
   ],
   "source": [
    "df['Property Location'].unique()"
   ]
  },
  {
   "cell_type": "code",
   "execution_count": 35,
   "id": "e045686f",
   "metadata": {},
   "outputs": [],
   "source": [
    "#filling null values of Type of Employment with mode of itself\n",
    "df['Type of Employment']=df['Type of Employment'].fillna(df['Type of Employment'].mode()[0])"
   ]
  },
  {
   "cell_type": "code",
   "execution_count": 36,
   "id": "e8e028b8",
   "metadata": {},
   "outputs": [],
   "source": [
    "#filling null values of Current Loan Expenses with mean of itself\n",
    "df['Current Loan Expenses (USD)']=df['Current Loan Expenses (USD)'].fillna(df['Current Loan Expenses (USD)'].mean())"
   ]
  },
  {
   "cell_type": "code",
   "execution_count": 37,
   "id": "baf4832e",
   "metadata": {},
   "outputs": [],
   "source": [
    "work = df.loc[df['Profession']=='Working',['Income (USD)']].mean()[0]\n",
    "pensioner = df.loc[df['Profession']=='Pensioner',['Income (USD)']].mean()[0]\n",
    "state_serv = df.loc[df['Profession']=='State servant',['Income (USD)']].mean()[0]\n",
    "comm_asso = df.loc[df['Profession']=='Commercial associate',['Income (USD)']].mean()[0]\n",
    "unemp = df.loc[df['Profession']=='Unemployed',['Income (USD)']].mean()[0]\n",
    "stud = df.loc[df['Profession']=='Student',['Income (USD)']].mean()[0]\n",
    "buss = df.loc[df['Profession']=='Businessman',['Income (USD)']].mean()[0]\n",
    "mater = df.loc[df['Profession']=='Maternity leave',['Income (USD)']].mean()[0]\n",
    "\n",
    "def fill_income(x):\n",
    "    if(x=='Working'):\n",
    "        return (work)\n",
    "    if(x=='Pensioner'):\n",
    "        return (pensioner)\n",
    "    if(x=='State servant'):\n",
    "        return (state_serv)\n",
    "    if(x=='Commercial associate'):\n",
    "        return (comm_asso)\n",
    "    if(x=='Unemployed'):\n",
    "        return (unemp)\n",
    "    if(x=='Student'):\n",
    "        return (stud)\n",
    "    if(x=='Businessman'):\n",
    "        return (buss)\n",
    "    if(x=='Maternity leave'):\n",
    "        return (mater)\n",
    "    "
   ]
  },
  {
   "cell_type": "code",
   "execution_count": 38,
   "id": "6331bb91",
   "metadata": {},
   "outputs": [],
   "source": [
    "prof_labels=[x for x in df['Profession'].unique()]"
   ]
  },
  {
   "cell_type": "code",
   "execution_count": 39,
   "id": "9ebaf6a1",
   "metadata": {},
   "outputs": [
    {
     "data": {
      "text/plain": [
       "['Working',\n",
       " 'Pensioner',\n",
       " 'State servant',\n",
       " 'Commercial associate',\n",
       " 'Unemployed',\n",
       " 'Student',\n",
       " 'Businessman',\n",
       " 'Maternity leave']"
      ]
     },
     "execution_count": 39,
     "metadata": {},
     "output_type": "execute_result"
    }
   ],
   "source": [
    "prof_labels"
   ]
  },
  {
   "cell_type": "code",
   "execution_count": 40,
   "id": "60e8f2a3",
   "metadata": {},
   "outputs": [
    {
     "data": {
      "text/plain": [
       "([<matplotlib.patches.Wedge at 0x1fd9ed17580>,\n",
       "  <matplotlib.patches.Wedge at 0x1fd9ed17b20>,\n",
       "  <matplotlib.patches.Wedge at 0x1fd9ed17fd0>,\n",
       "  <matplotlib.patches.Wedge at 0x1fd9ed23520>],\n",
       " [Text(-0.22074031048453785, 1.077624106693605, 'Working'),\n",
       "  Text(-0.35931930265994233, -1.0396584240681999, 'Pensioner'),\n",
       "  Text(0.7799735069570076, -0.7756554186268455, 'State servant'),\n",
       "  Text(1.0663953886366435, -0.2698163729177717, 'Commercial associate')])"
      ]
     },
     "execution_count": 40,
     "metadata": {},
     "output_type": "execute_result"
    },
    {
     "data": {
      "image/png": "[encoded data removed]",
      "text/plain": [
       "<Figure size 432x288 with 1 Axes>"
      ]
     },
     "metadata": {},
     "output_type": "display_data"
    }
   ],
   "source": [
    "plt.pie(df['Profession'].value_counts()[:4],labels=prof_labels[:4])"
   ]
  },
  {
   "cell_type": "code",
   "execution_count": 41,
   "id": "bef28bfb",
   "metadata": {},
   "outputs": [
    {
     "data": {
      "text/plain": [
       "Working                 16926\n",
       "Commercial associate     7962\n",
       "Pensioner                2740\n",
       "State servant            2366\n",
       "Unemployed                  2\n",
       "Businessman                 2\n",
       "Student                     1\n",
       "Maternity leave             1\n",
       "Name: Profession, dtype: int64"
      ]
     },
     "execution_count": 41,
     "metadata": {},
     "output_type": "execute_result"
    }
   ],
   "source": [
    "df['Profession'].value_counts()"
   ]
  },
  {
   "cell_type": "code",
   "execution_count": 42,
   "id": "aa66325f",
   "metadata": {},
   "outputs": [
    {
     "data": {
      "text/plain": [
       "2537.3440332568093"
      ]
     },
     "execution_count": 42,
     "metadata": {},
     "output_type": "execute_result"
    }
   ],
   "source": [
    "#filling null values of Profession according  with mode of itself\n",
    "df.loc[df['Profession']=='Working',['Income (USD)']].mean()[0]"
   ]
  },
  {
   "cell_type": "code",
   "execution_count": 43,
   "id": "91cba89b",
   "metadata": {},
   "outputs": [],
   "source": [
    "#filling null values of Income according to their profession using above function\n",
    "df['Income (USD)']=df['Income (USD)'].fillna(df['Profession'].apply(fill_income))"
   ]
  },
  {
   "cell_type": "code",
   "execution_count": 44,
   "id": "bef25ca0",
   "metadata": {
    "scrolled": true
   },
   "outputs": [
    {
     "data": {
      "text/plain": [
       "False    29999\n",
       "True         1\n",
       "Name: Income (USD), dtype: int64"
      ]
     },
     "execution_count": 44,
     "metadata": {},
     "output_type": "execute_result"
    }
   ],
   "source": [
    "df['Income (USD)'].isnull().value_counts()"
   ]
  },
  {
   "cell_type": "code",
   "execution_count": 45,
   "id": "3b71b870",
   "metadata": {},
   "outputs": [
    {
     "data": {
      "text/plain": [
       "nan"
      ]
     },
     "execution_count": 45,
     "metadata": {},
     "output_type": "execute_result"
    }
   ],
   "source": [
    "mater"
   ]
  },
  {
   "cell_type": "code",
   "execution_count": 46,
   "id": "9906df33",
   "metadata": {},
   "outputs": [
    {
     "data": {
      "text/plain": [
       "Working                 16926\n",
       "Commercial associate     7962\n",
       "Pensioner                2740\n",
       "State servant            2366\n",
       "Unemployed                  2\n",
       "Businessman                 2\n",
       "Student                     1\n",
       "Maternity leave             1\n",
       "Name: Profession, dtype: int64"
      ]
     },
     "execution_count": 46,
     "metadata": {},
     "output_type": "execute_result"
    }
   ],
   "source": [
    "df['Profession'].value_counts()"
   ]
  },
  {
   "cell_type": "code",
   "execution_count": 47,
   "id": "35102b09",
   "metadata": {},
   "outputs": [
    {
     "data": {
      "text/html": [
       "<div>\n",
       "<style scoped>\n",
       "    .dataframe tbody tr th:only-of-type {\n",
       "        vertical-align: middle;\n",
       "    }\n",
       "\n",
       "    .dataframe tbody tr th {\n",
       "        vertical-align: top;\n",
       "    }\n",
       "\n",
       "    .dataframe thead th {\n",
       "        text-align: right;\n",
       "    }\n",
       "</style>\n",
       "<table border=\"1\" class=\"dataframe\">\n",
       "  <thead>\n",
       "    <tr style=\"text-align: right;\">\n",
       "      <th></th>\n",
       "      <th>Gender</th>\n",
       "      <th>Age</th>\n",
       "      <th>Income (USD)</th>\n",
       "      <th>Income Stability</th>\n",
       "      <th>Profession</th>\n",
       "      <th>Type of Employment</th>\n",
       "      <th>Location</th>\n",
       "      <th>Loan Amount Request (USD)</th>\n",
       "      <th>Current Loan Expenses (USD)</th>\n",
       "      <th>Expense Type 1</th>\n",
       "      <th>...</th>\n",
       "      <th>Dependents</th>\n",
       "      <th>Credit Score</th>\n",
       "      <th>No. of Defaults</th>\n",
       "      <th>Has Active Credit Card</th>\n",
       "      <th>Property Age</th>\n",
       "      <th>Property Type</th>\n",
       "      <th>Property Location</th>\n",
       "      <th>Co-Applicant</th>\n",
       "      <th>Property Price</th>\n",
       "      <th>Loan Sanction Amount (USD)</th>\n",
       "    </tr>\n",
       "  </thead>\n",
       "  <tbody>\n",
       "    <tr>\n",
       "      <th>22344</th>\n",
       "      <td>F</td>\n",
       "      <td>62</td>\n",
       "      <td>NaN</td>\n",
       "      <td>Low</td>\n",
       "      <td>Maternity leave</td>\n",
       "      <td>Laborers</td>\n",
       "      <td>Urban</td>\n",
       "      <td>108967.56</td>\n",
       "      <td>1092.04</td>\n",
       "      <td>N</td>\n",
       "      <td>...</td>\n",
       "      <td>2.0</td>\n",
       "      <td>878.49</td>\n",
       "      <td>0</td>\n",
       "      <td>Active</td>\n",
       "      <td>1608.43</td>\n",
       "      <td>3</td>\n",
       "      <td>Semi-Urban</td>\n",
       "      <td>1</td>\n",
       "      <td>199761.32</td>\n",
       "      <td>1</td>\n",
       "    </tr>\n",
       "  </tbody>\n",
       "</table>\n",
       "<p>1 rows × 21 columns</p>\n",
       "</div>"
      ],
      "text/plain": [
       "      Gender  Age  Income (USD) Income Stability       Profession  \\\n",
       "22344      F   62           NaN              Low  Maternity leave   \n",
       "\n",
       "      Type of Employment Location  Loan Amount Request (USD)  \\\n",
       "22344           Laborers    Urban                  108967.56   \n",
       "\n",
       "       Current Loan Expenses (USD) Expense Type 1  ... Dependents  \\\n",
       "22344                      1092.04              N  ...        2.0   \n",
       "\n",
       "       Credit Score  No. of Defaults  Has Active Credit Card Property Age  \\\n",
       "22344        878.49                0                  Active      1608.43   \n",
       "\n",
       "       Property Type  Property Location Co-Applicant  Property Price  \\\n",
       "22344              3         Semi-Urban            1       199761.32   \n",
       "\n",
       "       Loan Sanction Amount (USD)  \n",
       "22344                           1  \n",
       "\n",
       "[1 rows x 21 columns]"
      ]
     },
     "execution_count": 47,
     "metadata": {},
     "output_type": "execute_result"
    }
   ],
   "source": [
    "df.loc[df['Income (USD)'].isnull()]"
   ]
  },
  {
   "cell_type": "code",
   "execution_count": 48,
   "id": "9dc711af",
   "metadata": {},
   "outputs": [
    {
     "data": {
      "text/plain": [
       "False    29999\n",
       "True         1\n",
       "Name: Income (USD), dtype: int64"
      ]
     },
     "execution_count": 48,
     "metadata": {},
     "output_type": "execute_result"
    }
   ],
   "source": [
    "df['Income (USD)'].isnull().value_counts()"
   ]
  },
  {
   "cell_type": "code",
   "execution_count": 49,
   "id": "3e062cc0",
   "metadata": {},
   "outputs": [],
   "source": [
    "df.at[22344,'Income (USD)']=0"
   ]
  },
  {
   "cell_type": "code",
   "execution_count": 50,
   "id": "fb0e2211",
   "metadata": {},
   "outputs": [
    {
     "data": {
      "text/plain": [
       "Gender                                       F\n",
       "Age                                         62\n",
       "Income (USD)                               0.0\n",
       "Income Stability                           Low\n",
       "Profession                     Maternity leave\n",
       "Type of Employment                    Laborers\n",
       "Location                                 Urban\n",
       "Loan Amount Request (USD)            108967.56\n",
       "Current Loan Expenses (USD)            1092.04\n",
       "Expense Type 1                               N\n",
       "Expense Type 2                               N\n",
       "Dependents                                 2.0\n",
       "Credit Score                            878.49\n",
       "No. of Defaults                              0\n",
       "Has Active Credit Card                  Active\n",
       "Property Age                           1608.43\n",
       "Property Type                                3\n",
       "Property Location                   Semi-Urban\n",
       "Co-Applicant                                 1\n",
       "Property Price                       199761.32\n",
       "Loan Sanction Amount (USD)                   1\n",
       "Name: 22344, dtype: object"
      ]
     },
     "execution_count": 50,
     "metadata": {},
     "output_type": "execute_result"
    }
   ],
   "source": [
    "df.iloc[22344]"
   ]
  },
  {
   "cell_type": "code",
   "execution_count": 51,
   "id": "437a2757",
   "metadata": {},
   "outputs": [
    {
     "data": {
      "text/plain": [
       "Gender                         0\n",
       "Age                            0\n",
       "Income (USD)                   0\n",
       "Income Stability               0\n",
       "Profession                     0\n",
       "Type of Employment             0\n",
       "Location                       0\n",
       "Loan Amount Request (USD)      0\n",
       "Current Loan Expenses (USD)    0\n",
       "Expense Type 1                 0\n",
       "Expense Type 2                 0\n",
       "Dependents                     0\n",
       "Credit Score                   0\n",
       "No. of Defaults                0\n",
       "Has Active Credit Card         0\n",
       "Property Age                   0\n",
       "Property Type                  0\n",
       "Property Location              0\n",
       "Co-Applicant                   0\n",
       "Property Price                 0\n",
       "Loan Sanction Amount (USD)     0\n",
       "dtype: int64"
      ]
     },
     "execution_count": 51,
     "metadata": {},
     "output_type": "execute_result"
    }
   ],
   "source": [
    "df.isnull().sum()"
   ]
  },
  {
   "cell_type": "markdown",
   "id": "be0935ad",
   "metadata": {},
   "source": [
    "## Coverting datatypes"
   ]
  },
  {
   "cell_type": "code",
   "execution_count": 52,
   "id": "e6549456",
   "metadata": {},
   "outputs": [
    {
     "name": "stdout",
     "output_type": "stream",
     "text": [
      "<class 'pandas.core.frame.DataFrame'>\n",
      "RangeIndex: 30000 entries, 0 to 29999\n",
      "Data columns (total 21 columns):\n",
      " #   Column                       Non-Null Count  Dtype  \n",
      "---  ------                       --------------  -----  \n",
      " 0   Gender                       30000 non-null  object \n",
      " 1   Age                          30000 non-null  int64  \n",
      " 2   Income (USD)                 30000 non-null  float64\n",
      " 3   Income Stability             30000 non-null  object \n",
      " 4   Profession                   30000 non-null  object \n",
      " 5   Type of Employment           30000 non-null  object \n",
      " 6   Location                     30000 non-null  object \n",
      " 7   Loan Amount Request (USD)    30000 non-null  float64\n",
      " 8   Current Loan Expenses (USD)  30000 non-null  float64\n",
      " 9   Expense Type 1               30000 non-null  object \n",
      " 10  Expense Type 2               30000 non-null  object \n",
      " 11  Dependents                   30000 non-null  float64\n",
      " 12  Credit Score                 30000 non-null  float64\n",
      " 13  No. of Defaults              30000 non-null  int64  \n",
      " 14  Has Active Credit Card       30000 non-null  object \n",
      " 15  Property Age                 30000 non-null  float64\n",
      " 16  Property Type                30000 non-null  int64  \n",
      " 17  Property Location            30000 non-null  object \n",
      " 18  Co-Applicant                 30000 non-null  int64  \n",
      " 19  Property Price               30000 non-null  float64\n",
      " 20  Loan Sanction Amount (USD)   30000 non-null  int64  \n",
      "dtypes: float64(7), int64(5), object(9)\n",
      "memory usage: 4.8+ MB\n"
     ]
    }
   ],
   "source": [
    "df.info()"
   ]
  },
  {
   "cell_type": "markdown",
   "id": "dd38df40",
   "metadata": {},
   "source": [
    "### converting gender to int form"
   ]
  },
  {
   "cell_type": "code",
   "execution_count": 53,
   "id": "b0eff4ba",
   "metadata": {},
   "outputs": [],
   "source": [
    "df['Gender'] = df['Gender'].map({'F':0,'M':1})"
   ]
  },
  {
   "cell_type": "markdown",
   "id": "1861996c",
   "metadata": {},
   "source": [
    "### converting Income Stability"
   ]
  },
  {
   "cell_type": "code",
   "execution_count": 54,
   "id": "ff2dbff0",
   "metadata": {},
   "outputs": [
    {
     "data": {
      "text/plain": [
       "array(['Low', 'High'], dtype=object)"
      ]
     },
     "execution_count": 54,
     "metadata": {},
     "output_type": "execute_result"
    }
   ],
   "source": [
    "df['Income Stability'].unique()"
   ]
  },
  {
   "cell_type": "code",
   "execution_count": 55,
   "id": "356ef532",
   "metadata": {},
   "outputs": [],
   "source": [
    "df['Income Stability'] = df['Income Stability'].map({'Low':0,'High':1})"
   ]
  },
  {
   "cell_type": "markdown",
   "id": "e3e83c7c",
   "metadata": {},
   "source": [
    "### converting Profession"
   ]
  },
  {
   "cell_type": "code",
   "execution_count": 56,
   "id": "e8c0d1aa",
   "metadata": {},
   "outputs": [
    {
     "data": {
      "text/plain": [
       "array(['Working', 'Pensioner', 'State servant', 'Commercial associate',\n",
       "       'Unemployed', 'Student', 'Businessman', 'Maternity leave'],\n",
       "      dtype=object)"
      ]
     },
     "execution_count": 56,
     "metadata": {},
     "output_type": "execute_result"
    }
   ],
   "source": [
    "df['Profession'].unique()"
   ]
  },
  {
   "cell_type": "code",
   "execution_count": 57,
   "id": "58a0267e",
   "metadata": {},
   "outputs": [],
   "source": [
    "prof_dict={'Working':0, 'Pensioner':1, 'State servant':2, 'Commercial associate':3,'Unemployed':4,\n",
    "           'Student':5, 'Businessman':6, 'Maternity leave':7}"
   ]
  },
  {
   "cell_type": "code",
   "execution_count": 58,
   "id": "b0c66ec3",
   "metadata": {},
   "outputs": [],
   "source": [
    "df['Profession']=df['Profession'].map(prof_dict)"
   ]
  },
  {
   "cell_type": "markdown",
   "id": "3ea2c03e",
   "metadata": {},
   "source": [
    "### converting Type of Employment"
   ]
  },
  {
   "cell_type": "code",
   "execution_count": 59,
   "id": "49bc27ab",
   "metadata": {},
   "outputs": [
    {
     "data": {
      "text/plain": [
       "array(['Sales staff', 'Laborers', 'High skill tech staff', 'Secretaries',\n",
       "       'Managers', 'Cooking staff', 'Core staff', 'Drivers',\n",
       "       'Realty agents', 'Security staff', 'Accountants',\n",
       "       'Private service staff', 'Waiters/barmen staff', 'Medicine staff',\n",
       "       'Cleaning staff', 'Low-skill Laborers', 'HR staff', 'IT staff'],\n",
       "      dtype=object)"
      ]
     },
     "execution_count": 59,
     "metadata": {},
     "output_type": "execute_result"
    }
   ],
   "source": [
    "df['Type of Employment'].unique()"
   ]
  },
  {
   "cell_type": "code",
   "execution_count": 60,
   "id": "b4f6cf2f",
   "metadata": {
    "scrolled": true
   },
   "outputs": [
    {
     "data": {
      "text/plain": [
       "Laborers                 12848\n",
       "Sales staff               3736\n",
       "Core staff                3230\n",
       "Managers                  2495\n",
       "Drivers                   1606\n",
       "Accountants               1379\n",
       "High skill tech staff     1307\n",
       "Medicine staff             864\n",
       "Security staff             579\n",
       "Cooking staff              566\n",
       "Private service staff      342\n",
       "Cleaning staff             341\n",
       "Low-skill Laborers         162\n",
       "Secretaries                161\n",
       "Waiters/barmen staff       149\n",
       "Realty agents               86\n",
       "IT staff                    77\n",
       "HR staff                    72\n",
       "Name: Type of Employment, dtype: int64"
      ]
     },
     "execution_count": 60,
     "metadata": {},
     "output_type": "execute_result"
    }
   ],
   "source": [
    "df['Type of Employment'].value_counts()"
   ]
  },
  {
   "cell_type": "code",
   "execution_count": 61,
   "id": "b36c153b",
   "metadata": {},
   "outputs": [],
   "source": [
    "type_emp_dict = {'Sales staff':0, 'Laborers':1, 'High skill tech staff':2, 'Secretaries':3,'Managers':4, 'Cooking staff':5,\n",
    "                 'Core staff':6, 'Drivers':7, 'Realty agents':8, 'Security staff':9, 'Accountants':10,'Private service staff':11,\n",
    "                 'Waiters/barmen staff':12, 'Medicine staff':13,'Cleaning staff':14, 'Low-skill Laborers':15, 'HR staff':16, \n",
    "                 'IT staff':17}"
   ]
  },
  {
   "cell_type": "code",
   "execution_count": 62,
   "id": "0b6606e5",
   "metadata": {},
   "outputs": [],
   "source": [
    "df['Type of Employment']=df['Type of Employment'].map(type_emp_dict)"
   ]
  },
  {
   "cell_type": "code",
   "execution_count": 63,
   "id": "10f1163f",
   "metadata": {},
   "outputs": [
    {
     "data": {
      "text/plain": [
       "Semi-Urban    21563\n",
       "Rural          5338\n",
       "Urban          3099\n",
       "Name: Location, dtype: int64"
      ]
     },
     "execution_count": 63,
     "metadata": {},
     "output_type": "execute_result"
    }
   ],
   "source": [
    "df['Location'].value_counts()"
   ]
  },
  {
   "cell_type": "code",
   "execution_count": 64,
   "id": "fac91f58",
   "metadata": {},
   "outputs": [],
   "source": [
    "df.drop(['Location','Expense Type 1','Expense Type 2'],inplace=True,axis=1)"
   ]
  },
  {
   "cell_type": "markdown",
   "id": "a22515c1",
   "metadata": {},
   "source": [
    "### Converting Credit card details"
   ]
  },
  {
   "cell_type": "code",
   "execution_count": 65,
   "id": "4a4ab841",
   "metadata": {},
   "outputs": [
    {
     "data": {
      "text/plain": [
       "array(['Active', 'Unpossessed', 'Inactive'], dtype=object)"
      ]
     },
     "execution_count": 65,
     "metadata": {},
     "output_type": "execute_result"
    }
   ],
   "source": [
    "df['Has Active Credit Card'].unique()"
   ]
  },
  {
   "cell_type": "code",
   "execution_count": 66,
   "id": "3049d82b",
   "metadata": {},
   "outputs": [
    {
     "data": {
      "text/plain": [
       "Active         11337\n",
       "Inactive        9466\n",
       "Unpossessed     9197\n",
       "Name: Has Active Credit Card, dtype: int64"
      ]
     },
     "execution_count": 66,
     "metadata": {},
     "output_type": "execute_result"
    }
   ],
   "source": [
    "df['Has Active Credit Card'].value_counts()"
   ]
  },
  {
   "cell_type": "code",
   "execution_count": 67,
   "id": "2e8243c1",
   "metadata": {},
   "outputs": [],
   "source": [
    "cred_card_dict={'Active':0, 'Unpossessed':2, 'Inactive':3}"
   ]
  },
  {
   "cell_type": "code",
   "execution_count": 68,
   "id": "98903f0c",
   "metadata": {},
   "outputs": [],
   "source": [
    "df['Has Active Credit Card'] = df['Has Active Credit Card'].map(cred_card_dict)"
   ]
  },
  {
   "cell_type": "markdown",
   "id": "6bb604c9",
   "metadata": {},
   "source": [
    "### Converting Location of property"
   ]
  },
  {
   "cell_type": "code",
   "execution_count": 69,
   "id": "80ed29fd",
   "metadata": {},
   "outputs": [
    {
     "data": {
      "text/plain": [
       "array(['Rural', 'Urban', 'Semi-Urban'], dtype=object)"
      ]
     },
     "execution_count": 69,
     "metadata": {},
     "output_type": "execute_result"
    }
   ],
   "source": [
    "df['Property Location'].unique()"
   ]
  },
  {
   "cell_type": "code",
   "execution_count": 70,
   "id": "d638ba14",
   "metadata": {},
   "outputs": [],
   "source": [
    "prop_loc_dict = {'Rural':0, 'Urban':1, 'Semi-Urban':2}"
   ]
  },
  {
   "cell_type": "code",
   "execution_count": 71,
   "id": "7cf0ec73",
   "metadata": {},
   "outputs": [],
   "source": [
    "df['Property Location'] = df['Property Location'].map(prop_loc_dict)"
   ]
  },
  {
   "cell_type": "markdown",
   "id": "6da5f6cd",
   "metadata": {},
   "source": [
    "## Cleaned data"
   ]
  },
  {
   "cell_type": "code",
   "execution_count": 72,
   "id": "077a6fa5",
   "metadata": {},
   "outputs": [
    {
     "name": "stdout",
     "output_type": "stream",
     "text": [
      "<class 'pandas.core.frame.DataFrame'>\n",
      "RangeIndex: 30000 entries, 0 to 29999\n",
      "Data columns (total 18 columns):\n",
      " #   Column                       Non-Null Count  Dtype  \n",
      "---  ------                       --------------  -----  \n",
      " 0   Gender                       30000 non-null  int64  \n",
      " 1   Age                          30000 non-null  int64  \n",
      " 2   Income (USD)                 30000 non-null  float64\n",
      " 3   Income Stability             30000 non-null  int64  \n",
      " 4   Profession                   30000 non-null  int64  \n",
      " 5   Type of Employment           30000 non-null  int64  \n",
      " 6   Loan Amount Request (USD)    30000 non-null  float64\n",
      " 7   Current Loan Expenses (USD)  30000 non-null  float64\n",
      " 8   Dependents                   30000 non-null  float64\n",
      " 9   Credit Score                 30000 non-null  float64\n",
      " 10  No. of Defaults              30000 non-null  int64  \n",
      " 11  Has Active Credit Card       30000 non-null  int64  \n",
      " 12  Property Age                 30000 non-null  float64\n",
      " 13  Property Type                30000 non-null  int64  \n",
      " 14  Property Location            30000 non-null  int64  \n",
      " 15  Co-Applicant                 30000 non-null  int64  \n",
      " 16  Property Price               30000 non-null  float64\n",
      " 17  Loan Sanction Amount (USD)   30000 non-null  int64  \n",
      "dtypes: float64(7), int64(11)\n",
      "memory usage: 4.1 MB\n"
     ]
    }
   ],
   "source": [
    "df.info()"
   ]
  },
  {
   "cell_type": "markdown",
   "id": "51a32f70",
   "metadata": {},
   "source": [
    "# Implementing ML  \n",
    "\n"
   ]
  },
  {
   "cell_type": "code",
   "execution_count": 73,
   "id": "5065f172",
   "metadata": {},
   "outputs": [],
   "source": [
    "x=df.iloc[:,:17]\n",
    "y=df.loc[:,'Loan Sanction Amount (USD)']"
   ]
  },
  {
   "cell_type": "code",
   "execution_count": 74,
   "id": "909774f1",
   "metadata": {},
   "outputs": [
    {
     "data": {
      "text/html": [
       "<div>\n",
       "<style scoped>\n",
       "    .dataframe tbody tr th:only-of-type {\n",
       "        vertical-align: middle;\n",
       "    }\n",
       "\n",
       "    .dataframe tbody tr th {\n",
       "        vertical-align: top;\n",
       "    }\n",
       "\n",
       "    .dataframe thead th {\n",
       "        text-align: right;\n",
       "    }\n",
       "</style>\n",
       "<table border=\"1\" class=\"dataframe\">\n",
       "  <thead>\n",
       "    <tr style=\"text-align: right;\">\n",
       "      <th></th>\n",
       "      <th>Gender</th>\n",
       "      <th>Age</th>\n",
       "      <th>Income (USD)</th>\n",
       "      <th>Income Stability</th>\n",
       "      <th>Profession</th>\n",
       "      <th>Type of Employment</th>\n",
       "      <th>Loan Amount Request (USD)</th>\n",
       "      <th>Current Loan Expenses (USD)</th>\n",
       "      <th>Dependents</th>\n",
       "      <th>Credit Score</th>\n",
       "      <th>No. of Defaults</th>\n",
       "      <th>Has Active Credit Card</th>\n",
       "      <th>Property Age</th>\n",
       "      <th>Property Type</th>\n",
       "      <th>Property Location</th>\n",
       "      <th>Co-Applicant</th>\n",
       "      <th>Property Price</th>\n",
       "    </tr>\n",
       "  </thead>\n",
       "  <tbody>\n",
       "    <tr>\n",
       "      <th>0</th>\n",
       "      <td>0</td>\n",
       "      <td>56</td>\n",
       "      <td>1933.050000</td>\n",
       "      <td>0</td>\n",
       "      <td>0</td>\n",
       "      <td>0</td>\n",
       "      <td>72809.58</td>\n",
       "      <td>241.08</td>\n",
       "      <td>3.0</td>\n",
       "      <td>809.44</td>\n",
       "      <td>0</td>\n",
       "      <td>0</td>\n",
       "      <td>1933.05</td>\n",
       "      <td>4</td>\n",
       "      <td>0</td>\n",
       "      <td>1</td>\n",
       "      <td>119933.46</td>\n",
       "    </tr>\n",
       "    <tr>\n",
       "      <th>1</th>\n",
       "      <td>1</td>\n",
       "      <td>32</td>\n",
       "      <td>4952.910000</td>\n",
       "      <td>0</td>\n",
       "      <td>0</td>\n",
       "      <td>1</td>\n",
       "      <td>46837.47</td>\n",
       "      <td>495.81</td>\n",
       "      <td>1.0</td>\n",
       "      <td>780.40</td>\n",
       "      <td>0</td>\n",
       "      <td>2</td>\n",
       "      <td>4952.91</td>\n",
       "      <td>2</td>\n",
       "      <td>0</td>\n",
       "      <td>1</td>\n",
       "      <td>54791.00</td>\n",
       "    </tr>\n",
       "    <tr>\n",
       "      <th>2</th>\n",
       "      <td>0</td>\n",
       "      <td>65</td>\n",
       "      <td>988.190000</td>\n",
       "      <td>1</td>\n",
       "      <td>1</td>\n",
       "      <td>1</td>\n",
       "      <td>45593.04</td>\n",
       "      <td>171.95</td>\n",
       "      <td>1.0</td>\n",
       "      <td>833.15</td>\n",
       "      <td>0</td>\n",
       "      <td>2</td>\n",
       "      <td>988.19</td>\n",
       "      <td>2</td>\n",
       "      <td>1</td>\n",
       "      <td>0</td>\n",
       "      <td>72440.58</td>\n",
       "    </tr>\n",
       "    <tr>\n",
       "      <th>3</th>\n",
       "      <td>0</td>\n",
       "      <td>65</td>\n",
       "      <td>2152.994227</td>\n",
       "      <td>1</td>\n",
       "      <td>1</td>\n",
       "      <td>1</td>\n",
       "      <td>80057.92</td>\n",
       "      <td>298.54</td>\n",
       "      <td>2.0</td>\n",
       "      <td>832.70</td>\n",
       "      <td>1</td>\n",
       "      <td>2</td>\n",
       "      <td>1608.43</td>\n",
       "      <td>2</td>\n",
       "      <td>2</td>\n",
       "      <td>1</td>\n",
       "      <td>121441.51</td>\n",
       "    </tr>\n",
       "    <tr>\n",
       "      <th>4</th>\n",
       "      <td>0</td>\n",
       "      <td>31</td>\n",
       "      <td>2614.770000</td>\n",
       "      <td>0</td>\n",
       "      <td>0</td>\n",
       "      <td>2</td>\n",
       "      <td>113858.89</td>\n",
       "      <td>491.41</td>\n",
       "      <td>2.0</td>\n",
       "      <td>745.55</td>\n",
       "      <td>1</td>\n",
       "      <td>0</td>\n",
       "      <td>2614.77</td>\n",
       "      <td>4</td>\n",
       "      <td>2</td>\n",
       "      <td>1</td>\n",
       "      <td>208567.91</td>\n",
       "    </tr>\n",
       "  </tbody>\n",
       "</table>\n",
       "</div>"
      ],
      "text/plain": [
       "   Gender  Age  Income (USD)  Income Stability  Profession  \\\n",
       "0       0   56   1933.050000                 0           0   \n",
       "1       1   32   4952.910000                 0           0   \n",
       "2       0   65    988.190000                 1           1   \n",
       "3       0   65   2152.994227                 1           1   \n",
       "4       0   31   2614.770000                 0           0   \n",
       "\n",
       "   Type of Employment  Loan Amount Request (USD)  Current Loan Expenses (USD)  \\\n",
       "0                   0                   72809.58                       241.08   \n",
       "1                   1                   46837.47                       495.81   \n",
       "2                   1                   45593.04                       171.95   \n",
       "3                   1                   80057.92                       298.54   \n",
       "4                   2                  113858.89                       491.41   \n",
       "\n",
       "   Dependents  Credit Score  No. of Defaults  Has Active Credit Card  \\\n",
       "0         3.0        809.44                0                       0   \n",
       "1         1.0        780.40                0                       2   \n",
       "2         1.0        833.15                0                       2   \n",
       "3         2.0        832.70                1                       2   \n",
       "4         2.0        745.55                1                       0   \n",
       "\n",
       "   Property Age  Property Type  Property Location  Co-Applicant  \\\n",
       "0       1933.05              4                  0             1   \n",
       "1       4952.91              2                  0             1   \n",
       "2        988.19              2                  1             0   \n",
       "3       1608.43              2                  2             1   \n",
       "4       2614.77              4                  2             1   \n",
       "\n",
       "   Property Price  \n",
       "0       119933.46  \n",
       "1        54791.00  \n",
       "2        72440.58  \n",
       "3       121441.51  \n",
       "4       208567.91  "
      ]
     },
     "execution_count": 74,
     "metadata": {},
     "output_type": "execute_result"
    }
   ],
   "source": [
    "x.head()"
   ]
  },
  {
   "cell_type": "code",
   "execution_count": 75,
   "id": "ecbfe2d1",
   "metadata": {},
   "outputs": [
    {
     "data": {
      "text/plain": [
       "0    1\n",
       "1    1\n",
       "2    1\n",
       "3    1\n",
       "4    1\n",
       "Name: Loan Sanction Amount (USD), dtype: int64"
      ]
     },
     "execution_count": 75,
     "metadata": {},
     "output_type": "execute_result"
    }
   ],
   "source": [
    "y.head()"
   ]
  },
  {
   "cell_type": "code",
   "execution_count": 76,
   "id": "a4c404c7",
   "metadata": {},
   "outputs": [],
   "source": [
    "#from sklearn.ensemble import AdaBoostClassifier\n",
    "from sklearn.model_selection import train_test_split\n",
    "from sklearn.metrics import classification_report, confusion_matrix, accuracy_score\n",
    "from sklearn import metrics\n",
    "\n",
    "X_train, X_test, y_train, y_test = train_test_split(x,y, test_size=0.2, \n",
    "                                                    random_state=100)"
   ]
  },
  {
   "cell_type": "code",
   "execution_count": 77,
   "id": "7e32c534",
   "metadata": {},
   "outputs": [
    {
     "data": {
      "text/plain": [
       "pandas.core.series.Series"
      ]
     },
     "execution_count": 77,
     "metadata": {},
     "output_type": "execute_result"
    }
   ],
   "source": [
    "type(y_test)"
   ]
  },
  {
   "cell_type": "markdown",
   "id": "1f2c0bce",
   "metadata": {},
   "source": [
    "### Logistic Regression"
   ]
  },
  {
   "cell_type": "code",
   "execution_count": 78,
   "id": "46b9eaea",
   "metadata": {},
   "outputs": [],
   "source": [
    "from sklearn.linear_model import LogisticRegression\n"
   ]
  },
  {
   "cell_type": "code",
   "execution_count": 79,
   "id": "46d3d960",
   "metadata": {},
   "outputs": [
    {
     "data": {
      "text/plain": [
       "LogisticRegression(random_state=0, solver='liblinear')"
      ]
     },
     "execution_count": 79,
     "metadata": {},
     "output_type": "execute_result"
    }
   ],
   "source": [
    "logmodel = LogisticRegression(solver='liblinear', random_state=0)\n",
    "logmodel.fit(X_train,y_train)"
   ]
  },
  {
   "cell_type": "code",
   "execution_count": 80,
   "id": "cb501c9b",
   "metadata": {},
   "outputs": [],
   "source": [
    "predictions = logmodel.predict(X_test)"
   ]
  },
  {
   "cell_type": "code",
   "execution_count": 81,
   "id": "66cda86f",
   "metadata": {},
   "outputs": [],
   "source": [
    "#from sklearn.metrics import classification_report, confusion_matrix, accuracy_score"
   ]
  },
  {
   "cell_type": "code",
   "execution_count": 82,
   "id": "5a06a9e3",
   "metadata": {},
   "outputs": [
    {
     "name": "stdout",
     "output_type": "stream",
     "text": [
      "0.7376666666666667\n",
      "              precision    recall  f1-score   support\n",
      "\n",
      "           0       0.00      0.00      0.00      1574\n",
      "           1       0.74      1.00      0.85      4426\n",
      "\n",
      "    accuracy                           0.74      6000\n",
      "   macro avg       0.37      0.50      0.42      6000\n",
      "weighted avg       0.54      0.74      0.63      6000\n",
      "\n"
     ]
    },
    {
     "name": "stderr",
     "output_type": "stream",
     "text": [
      "C:\\ProgramData\\Anaconda3\\lib\\site-packages\\sklearn\\metrics\\_classification.py:1248: UndefinedMetricWarning: Precision and F-score are ill-defined and being set to 0.0 in labels with no predicted samples. Use `zero_division` parameter to control this behavior.\n",
      "  _warn_prf(average, modifier, msg_start, len(result))\n",
      "C:\\ProgramData\\Anaconda3\\lib\\site-packages\\sklearn\\metrics\\_classification.py:1248: UndefinedMetricWarning: Precision and F-score are ill-defined and being set to 0.0 in labels with no predicted samples. Use `zero_division` parameter to control this behavior.\n",
      "  _warn_prf(average, modifier, msg_start, len(result))\n",
      "C:\\ProgramData\\Anaconda3\\lib\\site-packages\\sklearn\\metrics\\_classification.py:1248: UndefinedMetricWarning: Precision and F-score are ill-defined and being set to 0.0 in labels with no predicted samples. Use `zero_division` parameter to control this behavior.\n",
      "  _warn_prf(average, modifier, msg_start, len(result))\n"
     ]
    }
   ],
   "source": [
    "print(accuracy_score(y_test, predictions))\n",
    "print(classification_report(y_test,predictions))"
   ]
  },
  {
   "cell_type": "markdown",
   "id": "83f9e99b",
   "metadata": {},
   "source": [
    "### Adboost"
   ]
  },
  {
   "cell_type": "code",
   "execution_count": 83,
   "id": "c692caa6",
   "metadata": {},
   "outputs": [],
   "source": [
    "from sklearn.ensemble import AdaBoostClassifier"
   ]
  },
  {
   "cell_type": "code",
   "execution_count": 84,
   "id": "908d808e",
   "metadata": {},
   "outputs": [],
   "source": [
    "abc = AdaBoostClassifier(n_estimators=50,learning_rate=1)\n",
    "model = abc.fit(X_train, y_train)\n",
    "y_pred = model.predict(X_test)"
   ]
  },
  {
   "cell_type": "code",
   "execution_count": 85,
   "id": "96ed8a80",
   "metadata": {},
   "outputs": [
    {
     "name": "stdout",
     "output_type": "stream",
     "text": [
      "0.9016666666666666\n",
      "              precision    recall  f1-score   support\n",
      "\n",
      "           0       0.91      0.70      0.79      1574\n",
      "           1       0.90      0.98      0.94      4426\n",
      "\n",
      "    accuracy                           0.90      6000\n",
      "   macro avg       0.90      0.84      0.86      6000\n",
      "weighted avg       0.90      0.90      0.90      6000\n",
      "\n"
     ]
    }
   ],
   "source": [
    "print(accuracy_score(y_test, y_pred))\n",
    "print(classification_report(y_test,y_pred))"
   ]
  },
  {
   "cell_type": "markdown",
   "id": "29d639ac",
   "metadata": {},
   "source": [
    "### Decision tree"
   ]
  },
  {
   "cell_type": "code",
   "execution_count": 86,
   "id": "f9db61a8",
   "metadata": {
    "scrolled": true
   },
   "outputs": [
    {
     "data": {
      "text/plain": [
       "DecisionTreeClassifier()"
      ]
     },
     "execution_count": 86,
     "metadata": {},
     "output_type": "execute_result"
    }
   ],
   "source": [
    "from sklearn.tree import DecisionTreeClassifier\n",
    "d_tree = DecisionTreeClassifier()\n",
    "d_tree.fit(X_train,y_train)"
   ]
  },
  {
   "cell_type": "code",
   "execution_count": 87,
   "id": "137a02f3",
   "metadata": {},
   "outputs": [],
   "source": [
    "ypred_dtree = d_tree.predict(X_test)"
   ]
  },
  {
   "cell_type": "code",
   "execution_count": 88,
   "id": "aa0176fa",
   "metadata": {},
   "outputs": [
    {
     "name": "stdout",
     "output_type": "stream",
     "text": [
      "0.8431666666666666\n",
      "              precision    recall  f1-score   support\n",
      "\n",
      "           0       0.69      0.73      0.71      1574\n",
      "           1       0.90      0.88      0.89      4426\n",
      "\n",
      "    accuracy                           0.84      6000\n",
      "   macro avg       0.80      0.81      0.80      6000\n",
      "weighted avg       0.85      0.84      0.84      6000\n",
      "\n"
     ]
    }
   ],
   "source": [
    "print(accuracy_score(y_test, ypred_dtree))\n",
    "print(classification_report(y_test,ypred_dtree))"
   ]
  },
  {
   "cell_type": "markdown",
   "id": "64224efa",
   "metadata": {},
   "source": [
    "### Support vector"
   ]
  },
  {
   "cell_type": "code",
   "execution_count": 89,
   "id": "03a70386",
   "metadata": {},
   "outputs": [],
   "source": [
    "from sklearn.svm import SVC\n"
   ]
  },
  {
   "cell_type": "code",
   "execution_count": 90,
   "id": "e65d34e1",
   "metadata": {},
   "outputs": [
    {
     "data": {
      "text/plain": [
       "SVC()"
      ]
     },
     "execution_count": 90,
     "metadata": {},
     "output_type": "execute_result"
    }
   ],
   "source": [
    "sv_model = SVC()\n",
    "sv_model.fit(X_train,y_train)"
   ]
  },
  {
   "cell_type": "code",
   "execution_count": 91,
   "id": "21166282",
   "metadata": {},
   "outputs": [
    {
     "name": "stdout",
     "output_type": "stream",
     "text": [
      "[[   0 1574]\n",
      " [   0 4426]]\n"
     ]
    }
   ],
   "source": [
    "ypred_svm = sv_model.predict(X_test)\n",
    "print(confusion_matrix(y_test,ypred_svm))"
   ]
  },
  {
   "cell_type": "code",
   "execution_count": 92,
   "id": "fb7f6f0c",
   "metadata": {},
   "outputs": [
    {
     "name": "stdout",
     "output_type": "stream",
     "text": [
      "0.7376666666666667\n",
      "              precision    recall  f1-score   support\n",
      "\n",
      "           0       0.00      0.00      0.00      1574\n",
      "           1       0.74      1.00      0.85      4426\n",
      "\n",
      "    accuracy                           0.74      6000\n",
      "   macro avg       0.37      0.50      0.42      6000\n",
      "weighted avg       0.54      0.74      0.63      6000\n",
      "\n"
     ]
    },
    {
     "name": "stderr",
     "output_type": "stream",
     "text": [
      "C:\\ProgramData\\Anaconda3\\lib\\site-packages\\sklearn\\metrics\\_classification.py:1248: UndefinedMetricWarning: Precision and F-score are ill-defined and being set to 0.0 in labels with no predicted samples. Use `zero_division` parameter to control this behavior.\n",
      "  _warn_prf(average, modifier, msg_start, len(result))\n",
      "C:\\ProgramData\\Anaconda3\\lib\\site-packages\\sklearn\\metrics\\_classification.py:1248: UndefinedMetricWarning: Precision and F-score are ill-defined and being set to 0.0 in labels with no predicted samples. Use `zero_division` parameter to control this behavior.\n",
      "  _warn_prf(average, modifier, msg_start, len(result))\n",
      "C:\\ProgramData\\Anaconda3\\lib\\site-packages\\sklearn\\metrics\\_classification.py:1248: UndefinedMetricWarning: Precision and F-score are ill-defined and being set to 0.0 in labels with no predicted samples. Use `zero_division` parameter to control this behavior.\n",
      "  _warn_prf(average, modifier, msg_start, len(result))\n"
     ]
    }
   ],
   "source": [
    "print(accuracy_score(y_test, ypred_svm))\n",
    "print(classification_report(y_test,ypred_svm))"
   ]
  },
  {
   "cell_type": "markdown",
   "id": "8d5fbee3",
   "metadata": {},
   "source": [
    "### Random Forest"
   ]
  },
  {
   "cell_type": "code",
   "execution_count": 93,
   "id": "d3290dc7",
   "metadata": {},
   "outputs": [],
   "source": [
    "from sklearn.ensemble import RandomForestClassifier"
   ]
  },
  {
   "cell_type": "code",
   "execution_count": 94,
   "id": "c9d731dd",
   "metadata": {},
   "outputs": [
    {
     "data": {
      "text/plain": [
       "RandomForestClassifier()"
      ]
     },
     "execution_count": 94,
     "metadata": {},
     "output_type": "execute_result"
    }
   ],
   "source": [
    "rfc = RandomForestClassifier()\n",
    "rfc.fit(X_train,y_train)"
   ]
  },
  {
   "cell_type": "code",
   "execution_count": 95,
   "id": "1882fbcc",
   "metadata": {},
   "outputs": [],
   "source": [
    "pred_rf = rfc.predict(X_test)"
   ]
  },
  {
   "cell_type": "code",
   "execution_count": 96,
   "id": "d9fcc2c2",
   "metadata": {},
   "outputs": [
    {
     "name": "stdout",
     "output_type": "stream",
     "text": [
      "0.7376666666666667\n",
      "              precision    recall  f1-score   support\n",
      "\n",
      "           0       0.00      0.00      0.00      1574\n",
      "           1       0.74      1.00      0.85      4426\n",
      "\n",
      "    accuracy                           0.74      6000\n",
      "   macro avg       0.37      0.50      0.42      6000\n",
      "weighted avg       0.54      0.74      0.63      6000\n",
      "\n"
     ]
    },
    {
     "name": "stderr",
     "output_type": "stream",
     "text": [
      "C:\\ProgramData\\Anaconda3\\lib\\site-packages\\sklearn\\metrics\\_classification.py:1248: UndefinedMetricWarning: Precision and F-score are ill-defined and being set to 0.0 in labels with no predicted samples. Use `zero_division` parameter to control this behavior.\n",
      "  _warn_prf(average, modifier, msg_start, len(result))\n",
      "C:\\ProgramData\\Anaconda3\\lib\\site-packages\\sklearn\\metrics\\_classification.py:1248: UndefinedMetricWarning: Precision and F-score are ill-defined and being set to 0.0 in labels with no predicted samples. Use `zero_division` parameter to control this behavior.\n",
      "  _warn_prf(average, modifier, msg_start, len(result))\n",
      "C:\\ProgramData\\Anaconda3\\lib\\site-packages\\sklearn\\metrics\\_classification.py:1248: UndefinedMetricWarning: Precision and F-score are ill-defined and being set to 0.0 in labels with no predicted samples. Use `zero_division` parameter to control this behavior.\n",
      "  _warn_prf(average, modifier, msg_start, len(result))\n"
     ]
    }
   ],
   "source": [
    "print(accuracy_score(y_test, ypred_svm))\n",
    "print(classification_report(y_test,ypred_svm))"
   ]
  },
  {
   "cell_type": "code",
   "execution_count": null,
   "id": "7278f6bd",
   "metadata": {},
   "outputs": [],
   "source": []
  },
  {
   "cell_type": "code",
   "execution_count": null,
   "id": "fd72291f",
   "metadata": {},
   "outputs": [],
   "source": []
  }
 ],
 "metadata": {
  "kernelspec": {
   "display_name": "Python 3 (ipykernel)",
   "language": "python",
   "name": "python3"
  },
  "language_info": {
   "codemirror_mode": {
    "name": "ipython",
    "version": 3
   },
   "file_extension": ".py",
   "mimetype": "text/x-python",
   "name": "python",
   "nbconvert_exporter": "python",
   "pygments_lexer": "ipython3",
   "version": "3.9.7"
  }
 },
 "nbformat": 4,
 "nbformat_minor": 5
}
